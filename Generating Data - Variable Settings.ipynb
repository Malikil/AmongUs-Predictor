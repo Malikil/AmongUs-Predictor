{
 "cells": [
  {
   "cell_type": "code",
   "execution_count": 2,
   "id": "431ac172",
   "metadata": {},
   "outputs": [],
   "source": [
    "import numpy as np"
   ]
  },
  {
   "cell_type": "code",
   "execution_count": 8,
   "id": "5fb9f15b",
   "metadata": {},
   "outputs": [],
   "source": [
    "# First, because I'm missing actual input data, lets find a way to generate some.\n",
    "# I will use player number as their skill, just because it's easy. I don't want it completely\n",
    "# random because then what is the model learning, really?\n",
    "# Also lets have more players than actually appear in a single game\n",
    "players = np.arange(20) + 1\n",
    "maps = [\"The Skeld\", \"MIRA HQ\", \"Polus\", \"Airship\"]\n",
    "no_crewmates = 8\n",
    "no_impostors = 2\n",
    "confirm_ejects = False\n",
    "emergency_meetings = np.arange(10)\n",
    "emergency_cooldown = np.arange(0, 61, 5)\n",
    "discussion_time = np.arange(0, 121, 15)\n",
    "voting_time = np.arange(0, 301, 15)\n",
    "anonymous_votes = True\n",
    "player_speed = 1.25\n",
    "crewmate_vision = np.arange(0, 5, 0.25) + 0.25\n",
    "impostor_vision = np.arange(0, 5, 0.25) + 0.25\n",
    "kill_cooldown = np.arange(10, 61, 2.5)\n",
    "kill_distance = [\"Short\", 'Medium', \"Long\"]\n",
    "visual_tasks = False\n",
    "task_bar_updates = [\"Always\", \"Meetings\", \"Never\"]\n",
    "common_tasks = np.arange(3)\n",
    "long_tasks = np.arange(4)\n",
    "short_tasks = np.arange(6)"
   ]
  },
  {
   "cell_type": "code",
   "execution_count": 79,
   "id": "9a7215fb",
   "metadata": {},
   "outputs": [],
   "source": [
    "rng = np.random.default_rng()\n",
    "def get_winner(crewmates, impostors, settings):\n",
    "    impostor_skill = np.sum(impostors) * 4\n",
    "    crewmate_skill = np.sum(crewmates)\n",
    "    \n",
    "    # Incoporate game settings\n",
    "    # Don't include common because they can also be used against impostors\n",
    "    crewmate_skill /= (settings['short_tasks'] + settings['long_tasks'])\n",
    "    crewmate_skill *= min(settings['crewmate_vision'], 2)\n",
    "    crewmate_skill *= max(settings['discussion_time'] // 25, 1)\n",
    "    crewmate_skill *= (settings['voting_time'] + 5) // 25\n",
    "    if settings['anonymous_votes']:\n",
    "        crewmate_skill *= 0.85\n",
    "    if settings['confirm_ejects']:\n",
    "        crewmate_skill *= 4\n",
    "    crewmate_skill *= max(\n",
    "        (settings['kill_cooldown'] - settings['emergency_cooldown']) / 15,\n",
    "        0.25\n",
    "    )\n",
    "    crewmate_skill *= settings['emergency_meetings'] / 25 + 1\n",
    "    \n",
    "    impostor_skill *= min(settings['impostor_vision'], 1.25)\n",
    "    kill_mod = { 'Short':1, 'Medium':2, 'Long':3 }\n",
    "    impostor_skill *= kill_mod[settings['kill_distance']]\n",
    "    taskbar = { 'Always':1, 'Meetings':2, 'Never':3 }\n",
    "    impostor_skill *= taskbar[settings['task_bar_updates']]\n",
    "    if settings['visual_tasks']:\n",
    "        impostor_skill /= 4\n",
    "    impostor_skill /= settings['kill_cooldown'] / 30\n",
    "    \n",
    "    impostor_skill = np.ceil(impostor_skill)\n",
    "    crewmate_skill = np.ceil(crewmate_skill)\n",
    "    match_value = rng.integers(impostor_skill + crewmate_skill)\n",
    "    return 'crewmates' if match_value < crewmate_skill else 'impostors'\n",
    "\n",
    "def generate_settings():\n",
    "    settings = {\n",
    "        'map': rng.choice(maps),\n",
    "        'confirm_ejects': bool(rng.integers(2)),\n",
    "        'emergency_meetings': int(rng.choice(emergency_meetings)),\n",
    "        'emergency_cooldown': int(rng.choice(emergency_cooldown)),\n",
    "        'discussion_time': int(rng.choice(discussion_time)),\n",
    "        'voting_time': int(rng.choice(voting_time)),\n",
    "        'anonymous_votes': bool(rng.integers(2)),\n",
    "        'player_speed': float(player_speed),\n",
    "        'crewmate_vision': float(rng.choice(crewmate_vision)),\n",
    "        'impostor_vision': float(rng.choice(impostor_vision)),\n",
    "        'kill_cooldown': float(rng.choice(kill_cooldown)),\n",
    "        'kill_distance': rng.choice(kill_distance),\n",
    "        'visual_tasks': bool(rng.integers(2)),\n",
    "        'task_bar_updates': rng.choice(task_bar_updates),\n",
    "        'common_tasks': int(rng.choice(common_tasks)),\n",
    "        'long_tasks': int(rng.choice(long_tasks)),\n",
    "        'short_tasks': int(rng.choice(short_tasks))\n",
    "    }\n",
    "    if settings['long_tasks'] + settings['short_tasks'] == 0:\n",
    "        settings['short_tasks'] = 1\n",
    "    return settings"
   ]
  },
  {
   "cell_type": "code",
   "execution_count": 68,
   "id": "4f7888a2",
   "metadata": {},
   "outputs": [
    {
     "name": "stdout",
     "output_type": "stream",
     "text": [
      "{'crewmates': 566, 'impostors': 434}\n",
      "{'crew': [0.0, 6253.0], 'imp': [1.0, 405.0]}\n"
     ]
    }
   ],
   "source": [
    "wins = {\n",
    "    'crewmates': 0,\n",
    "    'impostors': 0\n",
    "}\n",
    "for _ in range(1000):\n",
    "    wins[get_winner(10, 3, generate_settings())] += 1\n",
    "\n",
    "print(wins)\n",
    "#print(skillrange)"
   ]
  },
  {
   "cell_type": "markdown",
   "id": "9cbe6839",
   "metadata": {},
   "source": [
    "I'm happy enough now with the win ratio between random settings, without taking players into account. Now lets add players"
   ]
  },
  {
   "cell_type": "code",
   "execution_count": 80,
   "id": "6233dbf7",
   "metadata": {},
   "outputs": [
    {
     "data": {
      "text/plain": [
       "{'crewmates': ['Player 18',\n",
       "  'Player 7',\n",
       "  'Player 6',\n",
       "  'Player 16',\n",
       "  'Player 4',\n",
       "  'Player 20',\n",
       "  'Player 13',\n",
       "  'Player 10'],\n",
       " 'impostors': ['Player 19', 'Player 8'],\n",
       " 'map': 'Airship',\n",
       " 'confirm_ejects': False,\n",
       " 'emergency_meetings': 1,\n",
       " 'emergency_cooldown': 35,\n",
       " 'discussion_time': 75,\n",
       " 'voting_time': 105,\n",
       " 'anonymous_votes': False,\n",
       " 'player_speed': 1.25,\n",
       " 'crewmate_vision': 0.25,\n",
       " 'impostor_vision': 2.25,\n",
       " 'kill_cooldown': 12.5,\n",
       " 'kill_distance': 'Medium',\n",
       " 'visual_tasks': False,\n",
       " 'task_bar_updates': 'Never',\n",
       " 'common_tasks': 0,\n",
       " 'long_tasks': 1,\n",
       " 'short_tasks': 4,\n",
       " 'match_winner': 'impostors'}"
      ]
     },
     "execution_count": 80,
     "metadata": {},
     "output_type": "execute_result"
    }
   ],
   "source": [
    "def generate_match():\n",
    "    impostors = rng.choice(players, no_impostors, replace=False)\n",
    "    crewmates = np.setdiff1d(players, impostors, assume_unique=True)\n",
    "    crewmates = rng.choice(crewmates, no_crewmates, replace=False)\n",
    "    \n",
    "    settings = generate_settings()\n",
    "    winner = get_winner(crewmates, impostors, settings)\n",
    "    \n",
    "    stradd = np.core.defchararray.add\n",
    "    crew_names = list(stradd('Player ', crewmates.astype(str)))\n",
    "    imp_names = list(stradd('Player ', impostors.astype(str)))\n",
    "    \n",
    "    match_result = {\n",
    "        'crewmates': crew_names,\n",
    "        'impostors': imp_names,\n",
    "        **settings,\n",
    "        'match_winner': winner\n",
    "    }\n",
    "    return match_result\n",
    "    \n",
    "generate_match()"
   ]
  },
  {
   "cell_type": "markdown",
   "id": "f9c9cb89",
   "metadata": {},
   "source": [
    "Just visually checking a bunch of generated matches, the winning team seems actually really quite reasonable. Lets generate a dataset"
   ]
  },
  {
   "cell_type": "code",
   "execution_count": 81,
   "id": "87522fe9",
   "metadata": {},
   "outputs": [
    {
     "name": "stdout",
     "output_type": "stream",
     "text": [
      "{'Player 1': 2708, 'Player 2': 2704, 'Player 3': 2719, 'Player 4': 2744, 'Player 5': 2709, 'Player 6': 2725, 'Player 7': 2797, 'Player 8': 2821, 'Player 9': 2830, 'Player 10': 2784, 'Player 11': 2805, 'Player 12': 2854, 'Player 13': 2850, 'Player 14': 2831, 'Player 15': 2908, 'Player 16': 2949, 'Player 17': 2911, 'Player 18': 2893, 'Player 19': 2896, 'Player 20': 2982}\n",
      "{'crewmates': 6070, 'impostors': 3930}\n"
     ]
    }
   ],
   "source": [
    "match_count = 10000\n",
    "matches = [generate_match() for _ in range(match_count)]\n",
    "pwins = {f'Player {p}': 0 for p in players}\n",
    "twins = {\n",
    "    'crewmates': 0,\n",
    "    'impostors': 0\n",
    "}\n",
    "for match in matches:\n",
    "    twins[match['match_winner']] += 1\n",
    "    # ngl this is a bit of a happy accident\n",
    "    # I wasn't intending to set it up so I could access the winning\n",
    "    # players like this so easily\n",
    "    for p in match[match['match_winner']]:\n",
    "        pwins[p] += 1\n",
    "        \n",
    "print(pwins)\n",
    "print(twins)"
   ]
  },
  {
   "cell_type": "code",
   "execution_count": 82,
   "id": "40fd0185",
   "metadata": {},
   "outputs": [
    {
     "data": {
      "text/plain": [
       "{'crewmates': ['Player 3',\n",
       "  'Player 9',\n",
       "  'Player 17',\n",
       "  'Player 16',\n",
       "  'Player 6',\n",
       "  'Player 14',\n",
       "  'Player 1',\n",
       "  'Player 4'],\n",
       " 'impostors': ['Player 2', 'Player 5'],\n",
       " 'map': 'MIRA HQ',\n",
       " 'confirm_ejects': False,\n",
       " 'emergency_meetings': 3,\n",
       " 'emergency_cooldown': 30,\n",
       " 'discussion_time': 15,\n",
       " 'voting_time': 75,\n",
       " 'anonymous_votes': True,\n",
       " 'player_speed': 1.25,\n",
       " 'crewmate_vision': 4.5,\n",
       " 'impostor_vision': 4.5,\n",
       " 'kill_cooldown': 25.0,\n",
       " 'kill_distance': 'Medium',\n",
       " 'visual_tasks': True,\n",
       " 'task_bar_updates': 'Always',\n",
       " 'common_tasks': 2,\n",
       " 'long_tasks': 1,\n",
       " 'short_tasks': 1,\n",
       " 'match_winner': 'crewmates'}"
      ]
     },
     "execution_count": 82,
     "metadata": {},
     "output_type": "execute_result"
    }
   ],
   "source": [
    "matches[0]"
   ]
  },
  {
   "cell_type": "code",
   "execution_count": 83,
   "id": "4291c821",
   "metadata": {},
   "outputs": [],
   "source": [
    "import json\n",
    "with open('data/matches.json', 'w') as outfile:\n",
    "    json.dump(matches, outfile)"
   ]
  },
  {
   "cell_type": "code",
   "execution_count": null,
   "id": "a522fd8c",
   "metadata": {},
   "outputs": [],
   "source": []
  }
 ],
 "metadata": {
  "kernelspec": {
   "display_name": "tensorf",
   "language": "python",
   "name": "tensorf"
  },
  "language_info": {
   "codemirror_mode": {
    "name": "ipython",
    "version": 3
   },
   "file_extension": ".py",
   "mimetype": "text/x-python",
   "name": "python",
   "nbconvert_exporter": "python",
   "pygments_lexer": "ipython3",
   "version": "3.8.5"
  }
 },
 "nbformat": 4,
 "nbformat_minor": 5
}
