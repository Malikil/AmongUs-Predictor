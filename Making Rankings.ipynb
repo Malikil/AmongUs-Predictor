{
 "cells": [
  {
   "cell_type": "code",
   "execution_count": 37,
   "id": "acc9b07f",
   "metadata": {},
   "outputs": [],
   "source": [
    "import numpy as np\n",
    "from itertools import combinations\n",
    "from Flaskapp.custom_classes import Predictor"
   ]
  },
  {
   "cell_type": "code",
   "execution_count": 2,
   "id": "b03d3870",
   "metadata": {},
   "outputs": [
    {
     "data": {
      "text/plain": [
       "<custom_classes.Predictor at 0x239d2ae60d0>"
      ]
     },
     "execution_count": 2,
     "metadata": {},
     "output_type": "execute_result"
    }
   ],
   "source": [
    "model = Predictor.load('models/classrng')\n",
    "model"
   ]
  },
  {
   "cell_type": "code",
   "execution_count": 3,
   "id": "cca7d229",
   "metadata": {},
   "outputs": [
    {
     "data": {
      "text/plain": [
       "<custom_classes.PlayerEncoder at 0x2399d6e98e0>"
      ]
     },
     "execution_count": 3,
     "metadata": {},
     "output_type": "execute_result"
    }
   ],
   "source": [
    "penc = model._penc\n",
    "penc"
   ]
  },
  {
   "cell_type": "code",
   "execution_count": 4,
   "id": "b87a6a11",
   "metadata": {},
   "outputs": [
    {
     "data": {
      "text/plain": [
       "{'Player 3': 0,\n",
       " 'Player 9': 1,\n",
       " 'Player 17': 2,\n",
       " 'Player 16': 3,\n",
       " 'Player 6': 4,\n",
       " 'Player 14': 5,\n",
       " 'Player 1': 6,\n",
       " 'Player 4': 7,\n",
       " 'Player 2': 8,\n",
       " 'Player 5': 9,\n",
       " 'Player 11': 10,\n",
       " 'Player 7': 11,\n",
       " 'Player 10': 12,\n",
       " 'Player 15': 13,\n",
       " 'Player 18': 14,\n",
       " 'Player 12': 15,\n",
       " 'Player 13': 16,\n",
       " 'Player 8': 17,\n",
       " 'Player 19': 18,\n",
       " 'Player 20': 19}"
      ]
     },
     "execution_count": 4,
     "metadata": {},
     "output_type": "execute_result"
    }
   ],
   "source": [
    "enc = penc._encodings\n",
    "enc"
   ]
  },
  {
   "cell_type": "code",
   "execution_count": 5,
   "id": "cc7d7335",
   "metadata": {},
   "outputs": [
    {
     "data": {
      "text/plain": [
       "20"
      ]
     },
     "execution_count": 5,
     "metadata": {},
     "output_type": "execute_result"
    }
   ],
   "source": [
    "len(enc)"
   ]
  },
  {
   "cell_type": "markdown",
   "id": "3a895a27",
   "metadata": {},
   "source": [
    "20 nCr 2 -> 190 impostor combinations  \n",
    "After taking out the two impostors, for each of those combinations there are a further  \n",
    "18 nCr 8 -> 43,758 crewmate combinations  \n",
    "So with 20 players there should be 8,314,020 possible player/role combinations. That's definitely far too many to make predictions for all of them\n",
    "\n",
    "Will numpy's choice function work with this generator? -- **No**"
   ]
  },
  {
   "cell_type": "code",
   "execution_count": 6,
   "id": "0efeb9df",
   "metadata": {},
   "outputs": [
    {
     "data": {
      "text/plain": [
       "array([['Player 17', 'Player 5'],\n",
       "       ['Player 2', 'Player 18'],\n",
       "       ['Player 9', 'Player 15']], dtype='<U9')"
      ]
     },
     "execution_count": 6,
     "metadata": {},
     "output_type": "execute_result"
    }
   ],
   "source": [
    "rng = np.random.default_rng()\n",
    "rng.choice(list(combinations(enc.keys(), 2)), 3)"
   ]
  },
  {
   "cell_type": "markdown",
   "id": "9555ad5b",
   "metadata": {},
   "source": [
    "What's a reasonable number of matches to use for generating the leaderboard? 10k? 100k?  \n",
    "Perhaps 100 impostor combinations, with 1000 crewmate combinations for each impostor pair?"
   ]
  },
  {
   "cell_type": "code",
   "execution_count": 7,
   "id": "67567a48",
   "metadata": {},
   "outputs": [
    {
     "data": {
      "text/plain": [
       "{'impostors': array(['Player 2', 'Player 8'], dtype='<U9'),\n",
       " 'crewmates': array([['Player 1', 'Player 13', 'Player 14', ..., 'Player 18',\n",
       "         'Player 6', 'Player 7'],\n",
       "        ['Player 11', 'Player 15', 'Player 17', ..., 'Player 3',\n",
       "         'Player 7', 'Player 9'],\n",
       "        ['Player 1', 'Player 12', 'Player 14', ..., 'Player 5',\n",
       "         'Player 6', 'Player 9'],\n",
       "        ...,\n",
       "        ['Player 14', 'Player 15', 'Player 16', ..., 'Player 6',\n",
       "         'Player 7', 'Player 9'],\n",
       "        ['Player 1', 'Player 10', 'Player 15', ..., 'Player 3',\n",
       "         'Player 5', 'Player 7'],\n",
       "        ['Player 10', 'Player 11', 'Player 13', ..., 'Player 4',\n",
       "         'Player 5', 'Player 6']], dtype='<U9')}"
      ]
     },
     "execution_count": 7,
     "metadata": {},
     "output_type": "execute_result"
    }
   ],
   "source": [
    "rng = np.random.default_rng()\n",
    "plist = list(enc.keys())\n",
    "# Choice can't choose more items than there are available\n",
    "combs = list(combinations(plist, 2))\n",
    "impostors = rng.choice(combs, min(len(combs), 100), replace=False)\n",
    "matches = []\n",
    "for imp in impostors:\n",
    "    candidates = np.setdiff1d(plist, imp)\n",
    "    ccombs = list(combinations(candidates, 8))\n",
    "    crewmates = rng.choice(ccombs, min(len(ccombs), 1000), replace=False)\n",
    "    matches.append({\n",
    "        'impostors': imp,\n",
    "        'crewmates': crewmates\n",
    "    })\n",
    "matches[0]"
   ]
  },
  {
   "cell_type": "markdown",
   "id": "63d317da",
   "metadata": {},
   "source": [
    "That did take some time, but it could definitely be worse. I'll run with these for now"
   ]
  },
  {
   "cell_type": "code",
   "execution_count": 8,
   "id": "c907bde3",
   "metadata": {},
   "outputs": [
    {
     "data": {
      "text/plain": [
       "<tensorflow.python.keras.engine.sequential.Sequential at 0x2399d6e9790>"
      ]
     },
     "execution_count": 8,
     "metadata": {},
     "output_type": "execute_result"
    }
   ],
   "source": [
    "m = model._model\n",
    "m"
   ]
  },
  {
   "cell_type": "code",
   "execution_count": 9,
   "id": "947d1649",
   "metadata": {},
   "outputs": [
    {
     "data": {
      "text/plain": [
       "array([  0.  ,   0.  ,   0.  ,   1.  ,   1.  ,   1.  ,   1.  ,   0.  ,\n",
       "         0.  ,   0.  ,   0.  ,   1.  ,   0.  ,   1.  ,   1.  ,   0.  ,\n",
       "         1.  ,   0.  ,   0.  ,   0.  ,   0.  ,   0.  ,   0.  ,   0.  ,\n",
       "         0.  ,   0.  ,   0.  ,   0.  ,   1.  ,   0.  ,   0.  ,   0.  ,\n",
       "         0.  ,   0.  ,   0.  ,   0.  ,   0.  ,   1.  ,   0.  ,   0.  ,\n",
       "         1.  ,   0.  ,   0.  ,   0.  ,   8.  ,   2.  ,   0.  ,   1.  ,\n",
       "        20.  ,  15.  , 120.  ,   1.  ,   1.25,   0.75,   1.5 ,  35.  ,\n",
       "         1.  ,   0.  ,   1.  ,   2.  ,   3.  ,   5.  ])"
      ]
     },
     "execution_count": 9,
     "metadata": {},
     "output_type": "execute_result"
    }
   ],
   "source": [
    "format_data = model._Predictor__convert_match_pred\n",
    "match_settings = {\n",
    "    'crewmates': matches[0]['crewmates'][0],\n",
    "    'impostors': matches[0]['impostors'],\n",
    "    'map': \"Airship\",\n",
    "    'confirm_ejects': False,\n",
    "    'emergency_meetings': 1,\n",
    "    'emergency_cooldown': 20,\n",
    "    'discussion_time': 15,\n",
    "    'voting_time': 120,\n",
    "    'anonymous_votes': True,\n",
    "    'player_speed': 1.25,\n",
    "    'crewmate_vision': 0.75,\n",
    "    'impostor_vision': 1.5,\n",
    "    'kill_cooldown': 35.0,\n",
    "    'kill_distance': \"Short\",\n",
    "    'visual_tasks': False,\n",
    "    'task_bar_updates': \"Meetings\",\n",
    "    'common_tasks': 2,\n",
    "    'long_tasks': 3,\n",
    "    'short_tasks': 5\n",
    "}\n",
    "format_data(match_settings)"
   ]
  },
  {
   "cell_type": "code",
   "execution_count": 10,
   "id": "219723f0",
   "metadata": {},
   "outputs": [
    {
     "data": {
      "text/plain": [
       "array([[0.15519747, 0.84480256]], dtype=float32)"
      ]
     },
     "execution_count": 10,
     "metadata": {},
     "output_type": "execute_result"
    }
   ],
   "source": [
    "m.predict(np.array([format_data(match_settings)]))"
   ]
  },
  {
   "cell_type": "code",
   "execution_count": 20,
   "id": "31b4c8c0",
   "metadata": {},
   "outputs": [
    {
     "data": {
      "text/plain": [
       "[{'impostors': ['Player 6', 'Player 12'],\n",
       "  'crewmates': ['Player 10',\n",
       "   'Player 11',\n",
       "   'Player 13',\n",
       "   'Player 17',\n",
       "   'Player 3',\n",
       "   'Player 4',\n",
       "   'Player 7',\n",
       "   'Player 8'],\n",
       "  'map': 'Airship',\n",
       "  'confirm_ejects': False,\n",
       "  'emergency_meetings': 1,\n",
       "  'emergency_cooldown': 20,\n",
       "  'discussion_time': 15,\n",
       "  'voting_time': 120,\n",
       "  'anonymous_votes': True,\n",
       "  'player_speed': 1.25,\n",
       "  'crewmate_vision': 0.75,\n",
       "  'impostor_vision': 1.5,\n",
       "  'kill_cooldown': 35.0,\n",
       "  'kill_distance': 'Short',\n",
       "  'visual_tasks': False,\n",
       "  'task_bar_updates': 'Meetings',\n",
       "  'common_tasks': 2,\n",
       "  'long_tasks': 3,\n",
       "  'short_tasks': 5},\n",
       " {'impostors': ['Player 6', 'Player 12'],\n",
       "  'crewmates': ['Player 10',\n",
       "   'Player 13',\n",
       "   'Player 17',\n",
       "   'Player 18',\n",
       "   'Player 19',\n",
       "   'Player 20',\n",
       "   'Player 5',\n",
       "   'Player 9'],\n",
       "  'map': 'Airship',\n",
       "  'confirm_ejects': False,\n",
       "  'emergency_meetings': 1,\n",
       "  'emergency_cooldown': 20,\n",
       "  'discussion_time': 15,\n",
       "  'voting_time': 120,\n",
       "  'anonymous_votes': True,\n",
       "  'player_speed': 1.25,\n",
       "  'crewmate_vision': 0.75,\n",
       "  'impostor_vision': 1.5,\n",
       "  'kill_cooldown': 35.0,\n",
       "  'kill_distance': 'Short',\n",
       "  'visual_tasks': False,\n",
       "  'task_bar_updates': 'Meetings',\n",
       "  'common_tasks': 2,\n",
       "  'long_tasks': 3,\n",
       "  'short_tasks': 5}]"
      ]
     },
     "execution_count": 20,
     "metadata": {},
     "output_type": "execute_result"
    }
   ],
   "source": [
    "def get_leaders(settings):\n",
    "    '''\n",
    "    Gets the ranking of all known players for given game settings\n",
    "\n",
    "    Required settings are:\n",
    "        * map\n",
    "        * player_count\n",
    "        * impostor_count\n",
    "        * confirm_ejects\n",
    "        * emergency_meetings\n",
    "        * emergency_cooldown\n",
    "        * discussion_time\n",
    "        * voting_time\n",
    "        * anonymous_votes\n",
    "        * player_speed\n",
    "        * crewmate_vision\n",
    "        * impostor_vision\n",
    "        * kill_cooldown\n",
    "        * kill_distance\n",
    "        * visual_tasks\n",
    "        * task_bar_updates\n",
    "        * common_tasks\n",
    "        * long_tasks\n",
    "        * short_tasks\n",
    "    '''\n",
    "    settings_list = [\n",
    "        'map', 'confirm_ejects', 'emergency_meetings',\n",
    "        'emergency_cooldown', 'discussion_time', 'voting_time',\n",
    "        'anonymous_votes', 'player_speed', 'crewmate_vision',\n",
    "        'impostor_vision', 'kill_cooldown', 'kill_distance',\n",
    "        'visual_tasks', 'task_bar_updates', 'common_tasks',\n",
    "        'long_tasks', 'short_tasks'\n",
    "    ]\n",
    "    rng = np.random.default_rng()\n",
    "    plist = list(enc.keys())\n",
    "    # Choice can't choose more items than there are available\n",
    "    combs = list(combinations(plist, 2))\n",
    "    impostors = rng.choice(combs, min(len(combs), 100), replace=False)\n",
    "    matches = []\n",
    "    for imp in impostors:\n",
    "        candidates = np.setdiff1d(plist, imp)\n",
    "        ccombs = list(combinations(candidates, 8))\n",
    "        crewmates = rng.choice(ccombs, min(len(ccombs), 1000), replace=False)\n",
    "        limp = list(imp)\n",
    "        for crew in crewmates:\n",
    "            matches.append({\n",
    "                'impostors': limp,\n",
    "                'crewmates': list(crew),\n",
    "                **{s: settings[s] for s in settings_list}\n",
    "            })\n",
    "    return matches\n",
    "\n",
    "leader_matches = get_leaders(match_settings)\n",
    "leader_matches[:2]"
   ]
  },
  {
   "cell_type": "code",
   "execution_count": 22,
   "id": "c20e51ec",
   "metadata": {},
   "outputs": [
    {
     "data": {
      "text/plain": [
       "array([[0.10026716, 0.8997328 ],\n",
       "       [0.19099031, 0.80900973]], dtype=float32)"
      ]
     },
     "execution_count": 22,
     "metadata": {},
     "output_type": "execute_result"
    }
   ],
   "source": [
    "results = m.predict(np.array([format_data(mch) for mch in leader_matches]))\n",
    "results[:2]"
   ]
  },
  {
   "cell_type": "markdown",
   "id": "fedb901f",
   "metadata": {},
   "source": [
    "Now that some example matches are paired with the expected winners, sums can be taken and a leaderboard constructed."
   ]
  },
  {
   "cell_type": "code",
   "execution_count": 32,
   "id": "4d119ca6",
   "metadata": {},
   "outputs": [
    {
     "data": {
      "text/plain": [
       "{'Player 3': 10000,\n",
       " 'Player 9': 11000,\n",
       " 'Player 17': 9000,\n",
       " 'Player 16': 9000,\n",
       " 'Player 6': 10000,\n",
       " 'Player 14': 11000,\n",
       " 'Player 1': 9000,\n",
       " 'Player 4': 10000,\n",
       " 'Player 2': 13000,\n",
       " 'Player 5': 10000,\n",
       " 'Player 11': 13000,\n",
       " 'Player 7': 8000,\n",
       " 'Player 10': 9000,\n",
       " 'Player 15': 8000,\n",
       " 'Player 18': 10000,\n",
       " 'Player 12': 9000,\n",
       " 'Player 13': 13000,\n",
       " 'Player 8': 9000,\n",
       " 'Player 19': 10000,\n",
       " 'Player 20': 9000}"
      ]
     },
     "execution_count": 32,
     "metadata": {},
     "output_type": "execute_result"
    }
   ],
   "source": [
    "wins = {p:0 for p in enc.keys()}\n",
    "wenc = model._wenc\n",
    "for match,result in zip(leader_matches, results):\n",
    "    winner = wenc.inverse_transform([np.round(result)])[0,0]\n",
    "    for p in match[winner]:\n",
    "        wins[p] += 1\n",
    "wins"
   ]
  },
  {
   "cell_type": "code",
   "execution_count": 36,
   "id": "c4806a32",
   "metadata": {},
   "outputs": [
    {
     "data": {
      "text/plain": [
       "[('Player 2', 13000),\n",
       " ('Player 11', 13000),\n",
       " ('Player 13', 13000),\n",
       " ('Player 9', 11000),\n",
       " ('Player 14', 11000),\n",
       " ('Player 3', 10000),\n",
       " ('Player 6', 10000),\n",
       " ('Player 4', 10000),\n",
       " ('Player 5', 10000),\n",
       " ('Player 18', 10000),\n",
       " ('Player 19', 10000),\n",
       " ('Player 17', 9000),\n",
       " ('Player 16', 9000),\n",
       " ('Player 1', 9000),\n",
       " ('Player 10', 9000),\n",
       " ('Player 12', 9000),\n",
       " ('Player 8', 9000),\n",
       " ('Player 20', 9000),\n",
       " ('Player 7', 8000),\n",
       " ('Player 15', 8000)]"
      ]
     },
     "execution_count": 36,
     "metadata": {},
     "output_type": "execute_result"
    }
   ],
   "source": [
    "sorted(wins.items(), key=lambda x: x[1], reverse=True)"
   ]
  },
  {
   "cell_type": "markdown",
   "id": "dd583462",
   "metadata": {},
   "source": [
    "In reality, the underlying player order has higher player numbers at a higher skill than lower player numbers. That's not totally reflected here, but that could easily be an issue with my data rather than the system as a whole. This is something that at least looks like a leaderboard, so I'm happy with keeping it like this"
   ]
  },
  {
   "cell_type": "code",
   "execution_count": null,
   "id": "7859d6fb",
   "metadata": {},
   "outputs": [],
   "source": []
  }
 ],
 "metadata": {
  "kernelspec": {
   "display_name": "tensorf",
   "language": "python",
   "name": "tensorf"
  },
  "language_info": {
   "codemirror_mode": {
    "name": "ipython",
    "version": 3
   },
   "file_extension": ".py",
   "mimetype": "text/x-python",
   "name": "python",
   "nbconvert_exporter": "python",
   "pygments_lexer": "ipython3",
   "version": "3.8.5"
  }
 },
 "nbformat": 4,
 "nbformat_minor": 5
}
