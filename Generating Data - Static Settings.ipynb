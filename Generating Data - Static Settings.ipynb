{
 "cells": [
  {
   "cell_type": "code",
   "execution_count": 1,
   "id": "431ac172",
   "metadata": {},
   "outputs": [],
   "source": [
    "import numpy as np"
   ]
  },
  {
   "cell_type": "code",
   "execution_count": 37,
   "id": "5fb9f15b",
   "metadata": {},
   "outputs": [],
   "source": [
    "# First, because I'm missing a set of quality input data. So lets find a way to generate some.\n",
    "# I will use player number as their skill, just because it's easy. I don't want it completely\n",
    "# random because then what is the model learning, really?\n",
    "players = np.arange(1, 11)\n",
    "maps = [\"The Skeld\", \"MIRA HQ\", \"Polus\", \"Airship\"]\n",
    "no_impostors = 2\n",
    "confirm_ejects = False\n",
    "emergency_meetings = 1\n",
    "emergency_cooldown = 20\n",
    "discussion_time = 15\n",
    "voting_time = 120\n",
    "anonymous_votes = True\n",
    "player_speed = 1.25\n",
    "crewmate_vision = 0.75\n",
    "impostor_vision = 1.5\n",
    "kill_cooldown = 35.0\n",
    "kill_distance = \"Short\"\n",
    "visual_tasks = False\n",
    "task_bar_updates = \"Meetings\"\n",
    "common_tasks = 2\n",
    "long_tasks = 3\n",
    "short_tasks = 5"
   ]
  },
  {
   "cell_type": "code",
   "execution_count": 35,
   "id": "f33dfa78",
   "metadata": {},
   "outputs": [
    {
     "name": "stdout",
     "output_type": "stream",
     "text": [
      "Average crew skill: 43.923\n",
      "Average impostor skill: 11.077\n",
      "Ratio: 3.965243296921549\n"
     ]
    }
   ],
   "source": [
    "# My plan for generating match results involves picking\n",
    "# two players as impostors, then summing the player numbers\n",
    "# to get a 'skill value', then generate a random number\n",
    "# based on these skill values to get a winner\n",
    "\n",
    "# I want the skill values to be about equal for the most part\n",
    "def skill_values(rounds):\n",
    "    imp_sum = 0\n",
    "    crew_sum = 0\n",
    "    for _ in range(rounds):\n",
    "        impostors = rng.choice(players, no_impostors, replace=False)\n",
    "        crewmates = np.setdiff1d(players, impostors, assume_unique=True)\n",
    "        imp_sum += np.sum(impostors)\n",
    "        crew_sum += np.sum(crewmates)\n",
    "    print('Average crew skill:', crew_sum / rounds)\n",
    "    print('Average impostor skill:', imp_sum / rounds)\n",
    "    print('Ratio:', crew_sum / imp_sum)\n",
    "    \n",
    "skill_values(1000)\n",
    "# As expected, it is close enough to 4x\n",
    "# I must have just got unlucky with my testing earlier and had a big\n",
    "# string of impostor wins"
   ]
  },
  {
   "cell_type": "code",
   "execution_count": 39,
   "id": "6233dbf7",
   "metadata": {},
   "outputs": [
    {
     "data": {
      "text/plain": [
       "{'crewmates': ['Player 1',\n",
       "  'Player 2',\n",
       "  'Player 4',\n",
       "  'Player 5',\n",
       "  'Player 6',\n",
       "  'Player 7',\n",
       "  'Player 9',\n",
       "  'Player 10'],\n",
       " 'impostors': ['Player 3', 'Player 8'],\n",
       " 'map': 'Airship',\n",
       " 'confirm_ejects': False,\n",
       " 'emergency_meetings': 1,\n",
       " 'emergency_cooldown': 20,\n",
       " 'discussion_time': 15,\n",
       " 'voting_time': 120,\n",
       " 'anonymous_votes': True,\n",
       " 'player_speed': 1.25,\n",
       " 'crewmate_vision': 0.75,\n",
       " 'impostor_vision': 1.5,\n",
       " 'kill_cooldown': 35.0,\n",
       " 'kill_distance': 'Short',\n",
       " 'visual_tasks': False,\n",
       " 'task_bar_updates': 'Meetings',\n",
       " 'common_tasks': 2,\n",
       " 'long_tasks': 3,\n",
       " 'short_tasks': 5,\n",
       " 'match_winner': 'impostors'}"
      ]
     },
     "execution_count": 39,
     "metadata": {},
     "output_type": "execute_result"
    }
   ],
   "source": [
    "# For now I will use the same settings for all matches\n",
    "rng = np.random.default_rng()\n",
    "def get_winner(crewmates, impostors):\n",
    "    impostor_skill = np.sum(impostors) * 4\n",
    "    crewmate_skill = np.sum(crewmates)\n",
    "    match_value = rng.integers(impostor_skill + crewmate_skill)\n",
    "    return 'crewmates' if match_value < crewmate_skill else 'impostors'\n",
    "\n",
    "def generate_match():\n",
    "    played_map = \"Airship\"\n",
    "    impostors = rng.choice(players, no_impostors, replace=False)\n",
    "    crewmates = np.setdiff1d(players, impostors, assume_unique=True)\n",
    "    winner = get_winner(crewmates, impostors)\n",
    "    stradd = np.core.defchararray.add\n",
    "    crew_names = list(stradd('Player ', crewmates.astype(str)))\n",
    "    imp_names = list(stradd('Player ', impostors.astype(str)))\n",
    "    match_result = {\n",
    "        'crewmates': crew_names,\n",
    "        'impostors': imp_names,\n",
    "        'map': played_map,\n",
    "        'confirm_ejects': confirm_ejects,\n",
    "        'emergency_meetings': emergency_meetings,\n",
    "        'emergency_cooldown': emergency_cooldown,\n",
    "        'discussion_time': discussion_time,\n",
    "        'voting_time': voting_time,\n",
    "        'anonymous_votes': anonymous_votes,\n",
    "        'player_speed': player_speed,\n",
    "        'crewmate_vision': crewmate_vision,\n",
    "        'impostor_vision': impostor_vision,\n",
    "        'kill_cooldown': kill_cooldown,\n",
    "        'kill_distance': kill_distance,\n",
    "        'visual_tasks': visual_tasks,\n",
    "        'task_bar_updates': task_bar_updates,\n",
    "        'common_tasks': common_tasks,\n",
    "        'long_tasks': long_tasks,\n",
    "        'short_tasks': short_tasks,\n",
    "        'match_winner': winner\n",
    "    }\n",
    "    return match_result\n",
    "    \n",
    "generate_match()"
   ]
  },
  {
   "cell_type": "code",
   "execution_count": 42,
   "id": "87522fe9",
   "metadata": {},
   "outputs": [
    {
     "data": {
      "text/plain": [
       "{'Player 1': 465,\n",
       " 'Player 2': 465,\n",
       " 'Player 3': 491,\n",
       " 'Player 4': 497,\n",
       " 'Player 5': 525,\n",
       " 'Player 6': 512,\n",
       " 'Player 7': 519,\n",
       " 'Player 8': 518,\n",
       " 'Player 9': 541,\n",
       " 'Player 10': 515}"
      ]
     },
     "execution_count": 42,
     "metadata": {},
     "output_type": "execute_result"
    }
   ],
   "source": [
    "# Generate a bunch of matches, then count how many times the\n",
    "# players won to get a general sense of if the actual match\n",
    "# results align with what I was intending\n",
    "match_count = 1000\n",
    "matches = [generate_match() for _ in range(match_count)]\n",
    "wins = {f'Player {p}': 0 for p in players}\n",
    "for match in matches:\n",
    "    # ngl this is a bit of a happy accident\n",
    "    # I wasn't intending to set it up so I could access the winning\n",
    "    # players like this so easily\n",
    "    for p in match[match['match_winner']]:\n",
    "        wins[p] += 1\n",
    "        \n",
    "wins"
   ]
  },
  {
   "cell_type": "markdown",
   "id": "d155b49c",
   "metadata": {},
   "source": [
    "There is a bit of progression, player 1 is definitely performing worse than player 10  \n",
    "I think I would have liked a bigger difference because this data is randomly generated, so the patterns just won't be there as much.\n",
    "\n",
    "That being said though, this will really be good enough for now. I'm sure any model I produce will have a better than 50% accuracy based on this"
   ]
  },
  {
   "cell_type": "code",
   "execution_count": 44,
   "id": "4291c821",
   "metadata": {},
   "outputs": [],
   "source": [
    "import json\n",
    "with open('data/matches.json', 'w') as outfile:\n",
    "    json.dump(matches, outfile)"
   ]
  },
  {
   "cell_type": "code",
   "execution_count": null,
   "id": "a522fd8c",
   "metadata": {},
   "outputs": [],
   "source": []
  }
 ],
 "metadata": {
  "kernelspec": {
   "display_name": "tensorf",
   "language": "python",
   "name": "tensorf"
  },
  "language_info": {
   "codemirror_mode": {
    "name": "ipython",
    "version": 3
   },
   "file_extension": ".py",
   "mimetype": "text/x-python",
   "name": "python",
   "nbconvert_exporter": "python",
   "pygments_lexer": "ipython3",
   "version": "3.8.5"
  }
 },
 "nbformat": 4,
 "nbformat_minor": 5
}
