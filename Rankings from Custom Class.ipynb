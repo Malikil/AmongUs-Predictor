{
 "cells": [
  {
   "cell_type": "code",
   "execution_count": 1,
   "id": "4abdf9f7",
   "metadata": {},
   "outputs": [],
   "source": [
    "from custom_classes import Predictor"
   ]
  },
  {
   "cell_type": "code",
   "execution_count": 2,
   "id": "481ff422",
   "metadata": {},
   "outputs": [
    {
     "name": "stdout",
     "output_type": "stream",
     "text": [
      "Model: \"sequential\"\n",
      "_________________________________________________________________\n",
      "Layer (type)                 Output Shape              Param #   \n",
      "=================================================================\n",
      "dense (Dense)                (None, 1600)              100800    \n",
      "_________________________________________________________________\n",
      "dense_1 (Dense)              (None, 400)               640400    \n",
      "_________________________________________________________________\n",
      "dense_2 (Dense)              (None, 133)               53333     \n",
      "_________________________________________________________________\n",
      "dense_3 (Dense)              (None, 44)                5896      \n",
      "_________________________________________________________________\n",
      "dense_4 (Dense)              (None, 14)                630       \n",
      "_________________________________________________________________\n",
      "dense_5 (Dense)              (None, 4)                 60        \n",
      "_________________________________________________________________\n",
      "dense_6 (Dense)              (None, 2)                 10        \n",
      "=================================================================\n",
      "Total params: 801,129\n",
      "Trainable params: 801,129\n",
      "Non-trainable params: 0\n",
      "_________________________________________________________________\n"
     ]
    }
   ],
   "source": [
    "model = Predictor.load('models/classrng')\n",
    "model.summary()"
   ]
  },
  {
   "cell_type": "code",
   "execution_count": 3,
   "id": "afa2accc",
   "metadata": {},
   "outputs": [
    {
     "name": "stdout",
     "output_type": "stream",
     "text": [
      "Create impostor combinations\n",
      "Create crewmate combinations ***************************************************************************\n",
      "Generate results\n",
      "Count wins\n"
     ]
    },
    {
     "data": {
      "text/plain": [
       "[('Player 4', 14002),\n",
       " ('Player 18', 12006),\n",
       " ('Player 13', 12004),\n",
       " ('Player 16', 12001),\n",
       " ('Player 19', 12001),\n",
       " ('Player 20', 11005),\n",
       " ('Player 15', 11003),\n",
       " ('Player 9', 10005),\n",
       " ('Player 14', 10004),\n",
       " ('Player 11', 10004),\n",
       " ('Player 8', 10001),\n",
       " ('Player 1', 10000),\n",
       " ('Player 7', 10000),\n",
       " ('Player 3', 9994),\n",
       " ('Player 2', 8994),\n",
       " ('Player 12', 8005),\n",
       " ('Player 17', 8003),\n",
       " ('Player 6', 8000),\n",
       " ('Player 5', 8000),\n",
       " ('Player 10', 5004)]"
      ]
     },
     "execution_count": 3,
     "metadata": {},
     "output_type": "execute_result"
    }
   ],
   "source": [
    "match_settings = {\n",
    "    'player_count': 10,\n",
    "    'impostor_count': 2,\n",
    "    'map': \"Airship\",\n",
    "    'confirm_ejects': False,\n",
    "    'emergency_meetings': 1,\n",
    "    'emergency_cooldown': 20,\n",
    "    'discussion_time': 15,\n",
    "    'voting_time': 120,\n",
    "    'anonymous_votes': True,\n",
    "    'player_speed': 1.25,\n",
    "    'crewmate_vision': 0.75,\n",
    "    'impostor_vision': 1.5,\n",
    "    'kill_cooldown': 35.0,\n",
    "    'kill_distance': \"Short\",\n",
    "    'visual_tasks': False,\n",
    "    'task_bar_updates': \"Meetings\",\n",
    "    'common_tasks': 2,\n",
    "    'long_tasks': 3,\n",
    "    'short_tasks': 5\n",
    "}\n",
    "leaders = model.get_leaders(match_settings)\n",
    "leaders"
   ]
  },
  {
   "cell_type": "code",
   "execution_count": null,
   "id": "d71e03af",
   "metadata": {},
   "outputs": [],
   "source": [
    "[('Player 2', 14997),\n",
    " ('Player 7', 13000),\n",
    " ('Player 13', 13000),\n",
    " ('Player 19', 12001),\n",
    " ('Player 3', 11998),\n",
    " ('Player 11', 11002),\n",
    " ('Player 16', 11000),\n",
    " ('Player 5', 11000),\n",
    " ('Player 8', 11000),\n",
    " ('Player 12', 10003),\n",
    " ('Player 15', 10001),\n",
    " ('Player 17', 9003),\n",
    " ('Player 14', 9003),\n",
    " ('Player 9', 9002),\n",
    " ('Player 4', 9000),\n",
    " ('Player 18', 8003),\n",
    " ('Player 1', 7999),\n",
    " ('Player 20', 7003),\n",
    " ('Player 10', 6002),\n",
    " ('Player 6', 6001)]"
   ]
  },
  {
   "cell_type": "markdown",
   "id": "c37865dd",
   "metadata": {},
   "source": [
    "Results are actually very inconsistent. This could be due to the fact that I'm generating the data randomly, or that I'm taking such a small subset of possible games when counting wins."
   ]
  },
  {
   "cell_type": "code",
   "execution_count": null,
   "id": "bc3072bd",
   "metadata": {},
   "outputs": [],
   "source": []
  }
 ],
 "metadata": {
  "kernelspec": {
   "display_name": "tensorf",
   "language": "python",
   "name": "tensorf"
  },
  "language_info": {
   "codemirror_mode": {
    "name": "ipython",
    "version": 3
   },
   "file_extension": ".py",
   "mimetype": "text/x-python",
   "name": "python",
   "nbconvert_exporter": "python",
   "pygments_lexer": "ipython3",
   "version": "3.8.5"
  }
 },
 "nbformat": 4,
 "nbformat_minor": 5
}
