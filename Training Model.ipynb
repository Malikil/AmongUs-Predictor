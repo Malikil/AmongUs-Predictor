{
 "cells": [
  {
   "cell_type": "code",
   "execution_count": 18,
   "id": "571f1819",
   "metadata": {},
   "outputs": [
    {
     "data": {
      "text/plain": [
       "{'crewmates': ['Player 3',\n",
       "  'Player 9',\n",
       "  'Player 17',\n",
       "  'Player 16',\n",
       "  'Player 6',\n",
       "  'Player 14',\n",
       "  'Player 1',\n",
       "  'Player 4'],\n",
       " 'impostors': ['Player 2', 'Player 5'],\n",
       " 'map': 'MIRA HQ',\n",
       " 'confirm_ejects': False,\n",
       " 'emergency_meetings': 3,\n",
       " 'emergency_cooldown': 30,\n",
       " 'discussion_time': 15,\n",
       " 'voting_time': 75,\n",
       " 'anonymous_votes': True,\n",
       " 'player_speed': 1.25,\n",
       " 'crewmate_vision': 4.5,\n",
       " 'impostor_vision': 4.5,\n",
       " 'kill_cooldown': 25.0,\n",
       " 'kill_distance': 'Medium',\n",
       " 'visual_tasks': True,\n",
       " 'task_bar_updates': 'Always',\n",
       " 'common_tasks': 2,\n",
       " 'long_tasks': 1,\n",
       " 'short_tasks': 1,\n",
       " 'match_winner': 'crewmates'}"
      ]
     },
     "execution_count": 18,
     "metadata": {},
     "output_type": "execute_result"
    }
   ],
   "source": [
    "import json\n",
    "with open('data/matches.json', 'r') as infile:\n",
    "    matches = json.load(infile)\n",
    "matches[0]"
   ]
  },
  {
   "cell_type": "code",
   "execution_count": 2,
   "id": "9c8fa277",
   "metadata": {},
   "outputs": [],
   "source": [
    "import numpy as np"
   ]
  },
  {
   "cell_type": "code",
   "execution_count": 3,
   "id": "30a6e483",
   "metadata": {},
   "outputs": [],
   "source": [
    "# Converting the data to something the model can use\n",
    "# My thinking here is basically onehot encode the players\n",
    "# With two rows, the first will be active in crew indexes,\n",
    "# the second will be active in impostor indexes.\n",
    "# The third row can be used for game settings\n",
    "class PlayerEncoder:\n",
    "    def __init__(self):\n",
    "        self._encodings = {}\n",
    "        self.pcount_ = 0\n",
    "        \n",
    "    def fit(self, player_arrs):\n",
    "        nextval = self.pcount_\n",
    "        for arr in player_arrs:\n",
    "            for player in arr:\n",
    "                if player not in self._encodings.keys():\n",
    "                    self._encodings[player] = nextval\n",
    "                    nextval += 1\n",
    "        self.pcount_ = nextval\n",
    "                    \n",
    "    def transform(self, player_arrs):\n",
    "        result = np.zeros((len(player_arrs), self.pcount_), dtype=int)\n",
    "        for i,arr in enumerate(player_arrs):\n",
    "            indexes = [self._encodings[p] for p in arr]\n",
    "            result[i, indexes] = 1\n",
    "        return result\n",
    "    \n",
    "    def fit_transform(self, player_arrs):\n",
    "        self.fit(player_arrs)\n",
    "        return self.transform(player_arrs)"
   ]
  },
  {
   "cell_type": "code",
   "execution_count": 19,
   "id": "f4630d68",
   "metadata": {},
   "outputs": [],
   "source": [
    "enc = PlayerEncoder()\n",
    "plist = matches[0]['crewmates'] + matches[0]['impostors']\n",
    "enc.fit([plist])"
   ]
  },
  {
   "cell_type": "code",
   "execution_count": 20,
   "id": "2a1819bf",
   "metadata": {},
   "outputs": [
    {
     "data": {
      "text/plain": [
       "{'Player 3': 0,\n",
       " 'Player 9': 1,\n",
       " 'Player 17': 2,\n",
       " 'Player 16': 3,\n",
       " 'Player 6': 4,\n",
       " 'Player 14': 5,\n",
       " 'Player 1': 6,\n",
       " 'Player 4': 7,\n",
       " 'Player 2': 8,\n",
       " 'Player 5': 9}"
      ]
     },
     "execution_count": 20,
     "metadata": {},
     "output_type": "execute_result"
    }
   ],
   "source": [
    "enc._encodings"
   ]
  },
  {
   "cell_type": "code",
   "execution_count": 21,
   "id": "158f1929",
   "metadata": {},
   "outputs": [
    {
     "data": {
      "text/plain": [
       "array([[1, 1, 1, 1, 1, 1, 1, 1, 0, 0],\n",
       "       [0, 0, 0, 0, 0, 0, 0, 0, 1, 1]])"
      ]
     },
     "execution_count": 21,
     "metadata": {},
     "output_type": "execute_result"
    }
   ],
   "source": [
    "enc.transform([matches[0]['crewmates'], matches[0]['impostors']])"
   ]
  },
  {
   "cell_type": "code",
   "execution_count": 22,
   "id": "5996853b",
   "metadata": {},
   "outputs": [
    {
     "data": {
      "text/plain": [
       "(array([ 1.  ,  1.  ,  1.  ,  1.  ,  1.  ,  1.  ,  1.  ,  1.  ,  0.  ,\n",
       "         0.  ,  0.  ,  0.  ,  0.  ,  0.  ,  0.  ,  0.  ,  0.  ,  0.  ,\n",
       "         0.  ,  0.  ,  0.  ,  0.  ,  0.  ,  0.  ,  0.  ,  0.  ,  0.  ,\n",
       "         0.  ,  1.  ,  1.  ,  0.  ,  0.  ,  0.  ,  0.  ,  0.  ,  0.  ,\n",
       "         0.  ,  0.  ,  0.  ,  0.  ,  0.  ,  1.  ,  0.  ,  0.  ,  8.  ,\n",
       "         2.  ,  0.  ,  3.  , 30.  , 15.  , 75.  ,  1.  ,  1.25,  4.5 ,\n",
       "         4.5 , 25.  ,  2.  ,  1.  ,  2.  ,  2.  ,  1.  ,  1.  ]),\n",
       " array([1., 0.]))"
      ]
     },
     "execution_count": 22,
     "metadata": {},
     "output_type": "execute_result"
    }
   ],
   "source": [
    "# Rather than replace what I wrote above for the input shape,\n",
    "# the three rows I described should really be flattened for\n",
    "# real input. Though conceptually it will probably help to\n",
    "# think of them as three individual components\n",
    "from sklearn.preprocessing import OneHotEncoder\n",
    "\n",
    "# Fit the player encoder\n",
    "penc = PlayerEncoder()\n",
    "penc.fit([m['crewmates'] + m['impostors'] for m in matches])\n",
    "# Fit the map encoder\n",
    "# For now just hard-code the maps\n",
    "menc = OneHotEncoder(sparse=False)\n",
    "menc.fit([['The Skeld'], ['MIRA HQ'], ['Polus'], ['Airship']])\n",
    "# May as well include the winner encoder here as well\n",
    "wenc = OneHotEncoder(sparse=False)\n",
    "wenc.fit([['crewmates'], ['impostors']])\n",
    "\n",
    "# Create dicts for string settings\n",
    "kill_distance = {\n",
    "    'Short': 1,\n",
    "    'Medium': 2,\n",
    "    'Long': 3\n",
    "}\n",
    "task_bar_updates = {\n",
    "    'Always': 2,\n",
    "    'Meetings': 1,\n",
    "    'Never': 0\n",
    "}\n",
    "\n",
    "# Function to convert a single match\n",
    "def convert_match_result(match):\n",
    "    # Do conversions for the things that need converting\n",
    "    crewmates = list(penc.transform([match['crewmates']])[0])\n",
    "    impostors = list(penc.transform([match['impostors']])[0])\n",
    "    map_played = list(menc.transform([[match['map']]])[0])\n",
    "    \n",
    "    inputs = np.array(crewmates + impostors + map_played + [\n",
    "        np.sum(crewmates), # No. crewmates\n",
    "        np.sum(impostors), # No. impostors\n",
    "        match['confirm_ejects'],\n",
    "        match['emergency_meetings'],\n",
    "        match['emergency_cooldown'],\n",
    "        match['discussion_time'],\n",
    "        match['voting_time'],\n",
    "        match['anonymous_votes'],\n",
    "        match['player_speed'],\n",
    "        match['crewmate_vision'],\n",
    "        match['impostor_vision'],\n",
    "        match['kill_cooldown'],\n",
    "        kill_distance[match['kill_distance']],\n",
    "        match['visual_tasks'],\n",
    "        task_bar_updates[match['task_bar_updates']],\n",
    "        match['common_tasks'],\n",
    "        match['long_tasks'],\n",
    "        match['short_tasks']\n",
    "    ])\n",
    "    # Convert winners\n",
    "    winner = wenc.transform([[match['match_winner']]])[0]\n",
    "    \n",
    "    return (inputs, winner)\n",
    "\n",
    "convert_match_result(matches[0])"
   ]
  },
  {
   "cell_type": "code",
   "execution_count": 23,
   "id": "4cf7e425",
   "metadata": {},
   "outputs": [
    {
     "data": {
      "text/plain": [
       "((10000, 62), (10000, 2))"
      ]
     },
     "execution_count": 23,
     "metadata": {},
     "output_type": "execute_result"
    }
   ],
   "source": [
    "inputs = []\n",
    "targets = []\n",
    "for m in matches:\n",
    "    result = convert_match_result(m)\n",
    "    inputs.append(result[0])\n",
    "    targets.append(result[1])\n",
    "inputs = np.array(inputs)\n",
    "targets = np.array(targets)\n",
    "inputs.shape, targets.shape"
   ]
  },
  {
   "cell_type": "code",
   "execution_count": 10,
   "id": "1b0ebbec",
   "metadata": {},
   "outputs": [],
   "source": [
    "import tensorflow as tf\n",
    "from tensorflow.keras.models import Sequential\n",
    "from tensorflow.keras.layers import Dense"
   ]
  },
  {
   "cell_type": "code",
   "execution_count": 33,
   "id": "b9830232",
   "metadata": {},
   "outputs": [],
   "source": [
    "model = Sequential()\n",
    "# This might be a bit unconventional, but it's something\n",
    "# I want to try. Use the number of players to determine\n",
    "# the output shape of the first couple of layers\n",
    "pcount = penc.pcount_\n",
    "mcount = len(menc.categories_[0])\n",
    "model.add(Dense(pcount * pcount * mcount, input_shape=inputs[0].shape, activation='relu'))\n",
    "# You know what, while I'm at it, lets just go ham with\n",
    "# automatically generating layers\n",
    "# I tried a couple of things, I like //3 the best so far\n",
    "layer_size = pcount * pcount\n",
    "while layer_size > 2:\n",
    "    model.add(Dense(layer_size, activation='relu'))\n",
    "    layer_size //= 3\n",
    "    \n",
    "model.add(Dense(2, activation='softmax'))\n",
    "model.compile(optimizer='adam', loss='categorical_crossentropy', metrics=['acc'])"
   ]
  },
  {
   "cell_type": "code",
   "execution_count": 30,
   "id": "3fbb9a8e",
   "metadata": {},
   "outputs": [
    {
     "name": "stdout",
     "output_type": "stream",
     "text": [
      "Model: \"sequential_4\"\n",
      "_________________________________________________________________\n",
      "Layer (type)                 Output Shape              Param #   \n",
      "=================================================================\n",
      "dense_26 (Dense)             (None, 1600)              100800    \n",
      "_________________________________________________________________\n",
      "dense_27 (Dense)             (None, 400)               640400    \n",
      "_________________________________________________________________\n",
      "dense_28 (Dense)             (None, 133)               53333     \n",
      "_________________________________________________________________\n",
      "dense_29 (Dense)             (None, 44)                5896      \n",
      "_________________________________________________________________\n",
      "dense_30 (Dense)             (None, 14)                630       \n",
      "_________________________________________________________________\n",
      "dense_31 (Dense)             (None, 4)                 60        \n",
      "_________________________________________________________________\n",
      "dense_32 (Dense)             (None, 2)                 10        \n",
      "=================================================================\n",
      "Total params: 801,129\n",
      "Trainable params: 801,129\n",
      "Non-trainable params: 0\n",
      "_________________________________________________________________\n"
     ]
    }
   ],
   "source": [
    "model.summary()"
   ]
  },
  {
   "cell_type": "code",
   "execution_count": 36,
   "id": "1742dc0f",
   "metadata": {},
   "outputs": [
    {
     "name": "stdout",
     "output_type": "stream",
     "text": [
      "Epoch 1/100\n",
      "250/250 [==============================] - 2s 6ms/step - loss: 0.3825 - acc: 0.8224 - val_loss: 0.4108 - val_acc: 0.8010\n",
      "Epoch 2/100\n",
      "250/250 [==============================] - 2s 6ms/step - loss: 0.3799 - acc: 0.8254 - val_loss: 0.4111 - val_acc: 0.8100\n",
      "Epoch 3/100\n",
      "250/250 [==============================] - 2s 6ms/step - loss: 0.3800 - acc: 0.8245 - val_loss: 0.4042 - val_acc: 0.8055\n",
      "Epoch 4/100\n",
      "250/250 [==============================] - 1s 6ms/step - loss: 0.3738 - acc: 0.8270 - val_loss: 0.4165 - val_acc: 0.8100\n",
      "Epoch 5/100\n",
      "250/250 [==============================] - 1s 6ms/step - loss: 0.3734 - acc: 0.8298 - val_loss: 0.4064 - val_acc: 0.7995\n",
      "Epoch 6/100\n",
      "250/250 [==============================] - 2s 6ms/step - loss: 0.3756 - acc: 0.8292 - val_loss: 0.4498 - val_acc: 0.7880\n",
      "Epoch 7/100\n",
      "250/250 [==============================] - 2s 6ms/step - loss: 0.3756 - acc: 0.8235 - val_loss: 0.4157 - val_acc: 0.8020\n",
      "Epoch 8/100\n",
      "250/250 [==============================] - 2s 6ms/step - loss: 0.3691 - acc: 0.8251 - val_loss: 0.4226 - val_acc: 0.8005\n",
      "Epoch 9/100\n",
      "250/250 [==============================] - 2s 6ms/step - loss: 0.3696 - acc: 0.8309 - val_loss: 0.4089 - val_acc: 0.8000\n",
      "Epoch 10/100\n",
      "250/250 [==============================] - 2s 6ms/step - loss: 0.3685 - acc: 0.8307 - val_loss: 0.4079 - val_acc: 0.8035\n",
      "Epoch 11/100\n",
      "250/250 [==============================] - 1s 6ms/step - loss: 0.3694 - acc: 0.8279 - val_loss: 0.4393 - val_acc: 0.7910\n",
      "Epoch 12/100\n",
      "250/250 [==============================] - 2s 6ms/step - loss: 0.3635 - acc: 0.8316 - val_loss: 0.4300 - val_acc: 0.8010\n"
     ]
    }
   ],
   "source": [
    "from tensorflow.keras.callbacks import EarlyStopping\n",
    "stop = EarlyStopping(monitor='val_acc', patience=5)\n",
    "\n",
    "history = model.fit(\n",
    "    x = inputs,\n",
    "    y = targets,\n",
    "    batch_size = 32,\n",
    "    epochs = 100,\n",
    "    validation_split = 0.2,\n",
    "    callbacks = [stop]\n",
    ")"
   ]
  },
  {
   "cell_type": "code",
   "execution_count": 35,
   "id": "b1d6fdd9",
   "metadata": {},
   "outputs": [
    {
     "data": {
      "image/png": "[encoded data removed]",
      "text/plain": [
       "<Figure size 432x288 with 1 Axes>"
      ]
     },
     "metadata": {
      "needs_background": "light"
     },
     "output_type": "display_data"
    }
   ],
   "source": [
    "import matplotlib.pyplot as plt\n",
    "plt.plot(history.history['acc'])\n",
    "plt.plot(history.history['val_acc'])\n",
    "plt.title('Accuracy History')\n",
    "plt.ylabel('Accuracy')\n",
    "plt.xlabel('Epoch')\n",
    "plt.legend(['train', 'test'])\n",
    "plt.show()"
   ]
  },
  {
   "cell_type": "code",
   "execution_count": 37,
   "id": "3abe30a8",
   "metadata": {},
   "outputs": [
    {
     "data": {
      "image/png": "[encoded data removed]",
      "text/plain": [
       "<Figure size 432x288 with 1 Axes>"
      ]
     },
     "metadata": {
      "needs_background": "light"
     },
     "output_type": "display_data"
    }
   ],
   "source": [
    "plt.plot(history.history['acc'])\n",
    "plt.plot(history.history['val_acc'])\n",
    "plt.title('Accuracy History')\n",
    "plt.ylabel('Accuracy')\n",
    "plt.xlabel('Epoch')\n",
    "plt.legend(['train', 'test'])\n",
    "plt.show()"
   ]
  },
  {
   "cell_type": "code",
   "execution_count": 38,
   "id": "f7f33914",
   "metadata": {},
   "outputs": [
    {
     "name": "stdout",
     "output_type": "stream",
     "text": [
      "WARNING:tensorflow:From E:\\Users\\eboyc\\anaconda3\\envs\\tensorf\\lib\\site-packages\\tensorflow\\python\\training\\tracking\\tracking.py:111: Model.state_updates (from tensorflow.python.keras.engine.training) is deprecated and will be removed in a future version.\n",
      "Instructions for updating:\n",
      "This property should not be used in TensorFlow 2.0, as updates are applied automatically.\n",
      "WARNING:tensorflow:From E:\\Users\\eboyc\\anaconda3\\envs\\tensorf\\lib\\site-packages\\tensorflow\\python\\training\\tracking\\tracking.py:111: Layer.updates (from tensorflow.python.keras.engine.base_layer) is deprecated and will be removed in a future version.\n",
      "Instructions for updating:\n",
      "This property should not be used in TensorFlow 2.0, as updates are applied automatically.\n",
      "INFO:tensorflow:Assets written to: models/rngenerated\\assets\n"
     ]
    }
   ],
   "source": [
    "model.save('models/rngenerated')"
   ]
  },
  {
   "cell_type": "code",
   "execution_count": null,
   "id": "4ecbe016",
   "metadata": {},
   "outputs": [],
   "source": []
  }
 ],
 "metadata": {
  "kernelspec": {
   "display_name": "tensorf",
   "language": "python",
   "name": "tensorf"
  },
  "language_info": {
   "codemirror_mode": {
    "name": "ipython",
    "version": 3
   },
   "file_extension": ".py",
   "mimetype": "text/x-python",
   "name": "python",
   "nbconvert_exporter": "python",
   "pygments_lexer": "ipython3",
   "version": "3.8.5"
  }
 },
 "nbformat": 4,
 "nbformat_minor": 5
}
