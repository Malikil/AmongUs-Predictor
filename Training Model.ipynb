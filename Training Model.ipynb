{
 "cells": [
  {
   "cell_type": "code",
   "execution_count": 1,
   "id": "571f1819",
   "metadata": {},
   "outputs": [
    {
     "data": {
      "text/plain": [
       "{'crewmates': ['Player 3',\n",
       "  'Player 9',\n",
       "  'Player 17',\n",
       "  'Player 16',\n",
       "  'Player 6',\n",
       "  'Player 14',\n",
       "  'Player 1',\n",
       "  'Player 4'],\n",
       " 'impostors': ['Player 2', 'Player 5'],\n",
       " 'map': 'MIRA HQ',\n",
       " 'confirm_ejects': False,\n",
       " 'emergency_meetings': 3,\n",
       " 'emergency_cooldown': 30,\n",
       " 'discussion_time': 15,\n",
       " 'voting_time': 75,\n",
       " 'anonymous_votes': True,\n",
       " 'player_speed': 1.25,\n",
       " 'crewmate_vision': 4.5,\n",
       " 'impostor_vision': 4.5,\n",
       " 'kill_cooldown': 25.0,\n",
       " 'kill_distance': 'Medium',\n",
       " 'visual_tasks': True,\n",
       " 'task_bar_updates': 'Always',\n",
       " 'common_tasks': 2,\n",
       " 'long_tasks': 1,\n",
       " 'short_tasks': 1,\n",
       " 'match_winner': 'crewmates'}"
      ]
     },
     "execution_count": 1,
     "metadata": {},
     "output_type": "execute_result"
    }
   ],
   "source": [
    "import json\n",
    "with open('data/matches.json', 'r') as infile:\n",
    "    matches = json.load(infile)\n",
    "matches[0]"
   ]
  },
  {
   "cell_type": "code",
   "execution_count": 2,
   "id": "9c8fa277",
   "metadata": {},
   "outputs": [],
   "source": [
    "import numpy as np"
   ]
  },
  {
   "cell_type": "code",
   "execution_count": 3,
   "id": "30a6e483",
   "metadata": {},
   "outputs": [],
   "source": [
    "# Converting the data to something the model can use\n",
    "# My thinking here is basically onehot encode the players\n",
    "# With two rows, the first will be active in crew indexes,\n",
    "# the second will be active in impostor indexes.\n",
    "# The third row can be used for game settings\n",
    "class PlayerEncoder:\n",
    "    def __init__(self):\n",
    "        self._encodings = {}\n",
    "        self.pcount_ = 0\n",
    "        \n",
    "    def fit(self, player_arrs):\n",
    "        nextval = self.pcount_\n",
    "        for arr in player_arrs:\n",
    "            for player in arr:\n",
    "                if player not in self._encodings.keys():\n",
    "                    self._encodings[player] = nextval\n",
    "                    nextval += 1\n",
    "        self.pcount_ = nextval\n",
    "                    \n",
    "    def transform(self, player_arrs):\n",
    "        result = np.zeros((len(player_arrs), self.pcount_), dtype=int)\n",
    "        for i,arr in enumerate(player_arrs):\n",
    "            indexes = [self._encodings[p] for p in arr]\n",
    "            result[i, indexes] = 1\n",
    "        return result\n",
    "    \n",
    "    def fit_transform(self, player_arrs):\n",
    "        self.fit(player_arrs)\n",
    "        return self.transform(player_arrs)\n",
    "    \n",
    "    def save(self, path):\n",
    "        with open(path, 'w') as outfile:\n",
    "            json.dump(self._encodings, outfile)\n",
    "            \n",
    "    @staticmethod\n",
    "    def load(path):\n",
    "        pe = PlayerEncoder()\n",
    "        with open(path, 'r') as infile:\n",
    "            pe._encodings = json.load(infile)\n",
    "            pe.pcount_ = len(pe._encodings)\n",
    "        return pe"
   ]
  },
  {
   "cell_type": "code",
   "execution_count": 19,
   "id": "f4630d68",
   "metadata": {},
   "outputs": [],
   "source": [
    "enc = PlayerEncoder()\n",
    "plist = matches[0]['crewmates'] + matches[0]['impostors']\n",
    "enc.fit([plist])"
   ]
  },
  {
   "cell_type": "code",
   "execution_count": 20,
   "id": "2a1819bf",
   "metadata": {},
   "outputs": [
    {
     "data": {
      "text/plain": [
       "{'Player 3': 0,\n",
       " 'Player 9': 1,\n",
       " 'Player 17': 2,\n",
       " 'Player 16': 3,\n",
       " 'Player 6': 4,\n",
       " 'Player 14': 5,\n",
       " 'Player 1': 6,\n",
       " 'Player 4': 7,\n",
       " 'Player 2': 8,\n",
       " 'Player 5': 9}"
      ]
     },
     "execution_count": 20,
     "metadata": {},
     "output_type": "execute_result"
    }
   ],
   "source": [
    "enc._encodings"
   ]
  },
  {
   "cell_type": "code",
   "execution_count": 21,
   "id": "158f1929",
   "metadata": {},
   "outputs": [
    {
     "data": {
      "text/plain": [
       "array([[1, 1, 1, 1, 1, 1, 1, 1, 0, 0],\n",
       "       [0, 0, 0, 0, 0, 0, 0, 0, 1, 1]])"
      ]
     },
     "execution_count": 21,
     "metadata": {},
     "output_type": "execute_result"
    }
   ],
   "source": [
    "enc.transform([matches[0]['crewmates'], matches[0]['impostors']])"
   ]
  },
  {
   "cell_type": "code",
   "execution_count": 4,
   "id": "5996853b",
   "metadata": {},
   "outputs": [
    {
     "data": {
      "text/plain": [
       "(array([ 1.  ,  1.  ,  1.  ,  1.  ,  1.  ,  1.  ,  1.  ,  1.  ,  0.  ,\n",
       "         0.  ,  0.  ,  0.  ,  0.  ,  0.  ,  0.  ,  0.  ,  0.  ,  0.  ,\n",
       "         0.  ,  0.  ,  0.  ,  0.  ,  0.  ,  0.  ,  0.  ,  0.  ,  0.  ,\n",
       "         0.  ,  1.  ,  1.  ,  0.  ,  0.  ,  0.  ,  0.  ,  0.  ,  0.  ,\n",
       "         0.  ,  0.  ,  0.  ,  0.  ,  0.  ,  1.  ,  0.  ,  0.  ,  8.  ,\n",
       "         2.  ,  0.  ,  3.  , 30.  , 15.  , 75.  ,  1.  ,  1.25,  4.5 ,\n",
       "         4.5 , 25.  ,  2.  ,  1.  ,  2.  ,  2.  ,  1.  ,  1.  ]),\n",
       " array([1., 0.]))"
      ]
     },
     "execution_count": 4,
     "metadata": {},
     "output_type": "execute_result"
    }
   ],
   "source": [
    "# Rather than replace what I wrote above for the input shape,\n",
    "# the three rows I described should really be flattened for\n",
    "# real input. Though conceptually it will probably help to\n",
    "# think of them as three individual components\n",
    "from sklearn.preprocessing import OneHotEncoder\n",
    "\n",
    "# Fit the player encoder\n",
    "penc = PlayerEncoder()\n",
    "penc.fit([m['crewmates'] + m['impostors'] for m in matches])\n",
    "# Fit the map encoder\n",
    "# For now just hard-code the maps\n",
    "menc = OneHotEncoder(sparse=False)\n",
    "menc.fit([['The Skeld'], ['MIRA HQ'], ['Polus'], ['Airship']])\n",
    "# May as well include the winner encoder here as well\n",
    "wenc = OneHotEncoder(sparse=False)\n",
    "wenc.fit([['crewmates'], ['impostors']])\n",
    "\n",
    "# Create dicts for string settings\n",
    "kill_distance = {\n",
    "    'Short': 1,\n",
    "    'Medium': 2,\n",
    "    'Long': 3\n",
    "}\n",
    "task_bar_updates = {\n",
    "    'Always': 2,\n",
    "    'Meetings': 1,\n",
    "    'Never': 0\n",
    "}\n",
    "\n",
    "# Function to convert a single match\n",
    "def convert_match_result(match):\n",
    "    # Do conversions for the things that need converting\n",
    "    crewmates = list(penc.transform([match['crewmates']])[0])\n",
    "    impostors = list(penc.transform([match['impostors']])[0])\n",
    "    map_played = list(menc.transform([[match['map']]])[0])\n",
    "    \n",
    "    inputs = np.array(crewmates + impostors + map_played + [\n",
    "        np.sum(crewmates), # No. crewmates\n",
    "        np.sum(impostors), # No. impostors\n",
    "        match['confirm_ejects'],\n",
    "        match['emergency_meetings'],\n",
    "        match['emergency_cooldown'],\n",
    "        match['discussion_time'],\n",
    "        match['voting_time'],\n",
    "        match['anonymous_votes'],\n",
    "        match['player_speed'],\n",
    "        match['crewmate_vision'],\n",
    "        match['impostor_vision'],\n",
    "        match['kill_cooldown'],\n",
    "        kill_distance[match['kill_distance']],\n",
    "        match['visual_tasks'],\n",
    "        task_bar_updates[match['task_bar_updates']],\n",
    "        match['common_tasks'],\n",
    "        match['long_tasks'],\n",
    "        match['short_tasks']\n",
    "    ])\n",
    "    # Convert winners\n",
    "    winner = wenc.transform([[match['match_winner']]])[0]\n",
    "    \n",
    "    return (inputs, winner)\n",
    "\n",
    "convert_match_result(matches[0])"
   ]
  },
  {
   "cell_type": "code",
   "execution_count": 5,
   "id": "4cf7e425",
   "metadata": {},
   "outputs": [
    {
     "data": {
      "text/plain": [
       "((10000, 62), (10000, 2))"
      ]
     },
     "execution_count": 5,
     "metadata": {},
     "output_type": "execute_result"
    }
   ],
   "source": [
    "inputs = []\n",
    "targets = []\n",
    "for m in matches:\n",
    "    result = convert_match_result(m)\n",
    "    inputs.append(result[0])\n",
    "    targets.append(result[1])\n",
    "inputs = np.array(inputs)\n",
    "targets = np.array(targets)\n",
    "inputs.shape, targets.shape"
   ]
  },
  {
   "cell_type": "code",
   "execution_count": 6,
   "id": "1b0ebbec",
   "metadata": {},
   "outputs": [],
   "source": [
    "import tensorflow as tf\n",
    "from tensorflow.keras.models import Sequential\n",
    "from tensorflow.keras.layers import Dense"
   ]
  },
  {
   "cell_type": "code",
   "execution_count": 15,
   "id": "b9830232",
   "metadata": {},
   "outputs": [],
   "source": [
    "model = Sequential()\n",
    "# This might be a bit unconventional, but it's something\n",
    "# I want to try. Use the number of players to determine\n",
    "# the output shape of the first couple of layers\n",
    "pcount = penc.pcount_\n",
    "mcount = len(menc.categories_[0])\n",
    "model.add(Dense(pcount * pcount * mcount, input_shape=inputs[0].shape, activation='relu'))\n",
    "# You know what, while I'm at it, lets just go ham with\n",
    "# automatically generating layers\n",
    "# I tried a couple of things, I like //3 the best so far\n",
    "layer_size = pcount * pcount\n",
    "while layer_size > 2:\n",
    "    model.add(Dense(layer_size, activation='relu'))\n",
    "    layer_size //= 3\n",
    "    \n",
    "model.add(Dense(2, activation='softmax'))\n",
    "model.compile(optimizer='adam', loss='categorical_crossentropy', metrics=['acc'])"
   ]
  },
  {
   "cell_type": "code",
   "execution_count": 12,
   "id": "3fbb9a8e",
   "metadata": {},
   "outputs": [
    {
     "name": "stdout",
     "output_type": "stream",
     "text": [
      "Model: \"sequential_1\"\n",
      "_________________________________________________________________\n",
      "Layer (type)                 Output Shape              Param #   \n",
      "=================================================================\n",
      "dense_7 (Dense)              (None, 1600)              100800    \n",
      "_________________________________________________________________\n",
      "dense_8 (Dense)              (None, 400)               640400    \n",
      "_________________________________________________________________\n",
      "dense_9 (Dense)              (None, 133)               53333     \n",
      "_________________________________________________________________\n",
      "dense_10 (Dense)             (None, 44)                5896      \n",
      "_________________________________________________________________\n",
      "dense_11 (Dense)             (None, 14)                630       \n",
      "_________________________________________________________________\n",
      "dense_12 (Dense)             (None, 4)                 60        \n",
      "_________________________________________________________________\n",
      "dense_13 (Dense)             (None, 2)                 10        \n",
      "=================================================================\n",
      "Total params: 801,129\n",
      "Trainable params: 801,129\n",
      "Non-trainable params: 0\n",
      "_________________________________________________________________\n"
     ]
    }
   ],
   "source": [
    "model.summary()"
   ]
  },
  {
   "cell_type": "code",
   "execution_count": 16,
   "id": "1742dc0f",
   "metadata": {},
   "outputs": [
    {
     "name": "stdout",
     "output_type": "stream",
     "text": [
      "Epoch 1/100\n",
      "250/250 [==============================] - 2s 9ms/step - loss: 0.5478 - acc: 0.7193 - val_loss: 0.4958 - val_acc: 0.7450\n",
      "Epoch 2/100\n",
      "250/250 [==============================] - 2s 8ms/step - loss: 0.4616 - acc: 0.7755 - val_loss: 0.4491 - val_acc: 0.7770\n",
      "Epoch 3/100\n",
      "250/250 [==============================] - 2s 8ms/step - loss: 0.4190 - acc: 0.8037 - val_loss: 0.4252 - val_acc: 0.7970\n",
      "Epoch 4/100\n",
      "250/250 [==============================] - 2s 9ms/step - loss: 0.4003 - acc: 0.8099 - val_loss: 0.4352 - val_acc: 0.7845\n",
      "Epoch 5/100\n",
      "250/250 [==============================] - 2s 8ms/step - loss: 0.4035 - acc: 0.8115 - val_loss: 0.4245 - val_acc: 0.7965\n",
      "Epoch 6/100\n",
      "250/250 [==============================] - 2s 8ms/step - loss: 0.3939 - acc: 0.8170 - val_loss: 0.4214 - val_acc: 0.8025\n",
      "Epoch 7/100\n",
      "250/250 [==============================] - 2s 8ms/step - loss: 0.3922 - acc: 0.8221 - val_loss: 0.4141 - val_acc: 0.8055\n",
      "Epoch 8/100\n",
      "250/250 [==============================] - 2s 8ms/step - loss: 0.3880 - acc: 0.8217 - val_loss: 0.4417 - val_acc: 0.7975\n",
      "Epoch 9/100\n",
      "250/250 [==============================] - 2s 8ms/step - loss: 0.3865 - acc: 0.8211 - val_loss: 0.4192 - val_acc: 0.8020\n",
      "Epoch 10/100\n",
      "250/250 [==============================] - 2s 8ms/step - loss: 0.3855 - acc: 0.8253 - val_loss: 0.4199 - val_acc: 0.8075\n",
      "Epoch 11/100\n",
      "250/250 [==============================] - 2s 8ms/step - loss: 0.3788 - acc: 0.8242 - val_loss: 0.4085 - val_acc: 0.8110\n",
      "Epoch 12/100\n",
      "250/250 [==============================] - 2s 8ms/step - loss: 0.3792 - acc: 0.8249 - val_loss: 0.4214 - val_acc: 0.8070\n",
      "Epoch 13/100\n",
      "250/250 [==============================] - 2s 8ms/step - loss: 0.3815 - acc: 0.8201 - val_loss: 0.4102 - val_acc: 0.8050\n",
      "Epoch 14/100\n",
      "250/250 [==============================] - 2s 8ms/step - loss: 0.3799 - acc: 0.8231 - val_loss: 0.4214 - val_acc: 0.8025\n",
      "Epoch 15/100\n",
      "250/250 [==============================] - 2s 8ms/step - loss: 0.3777 - acc: 0.8244 - val_loss: 0.4153 - val_acc: 0.8095\n",
      "Epoch 16/100\n",
      "250/250 [==============================] - 2s 8ms/step - loss: 0.3696 - acc: 0.8290 - val_loss: 0.4269 - val_acc: 0.8010\n"
     ]
    }
   ],
   "source": [
    "from tensorflow.keras.callbacks import EarlyStopping\n",
    "stop = EarlyStopping(monitor='val_acc', patience=5)\n",
    "\n",
    "history = model.fit(\n",
    "    x = inputs,\n",
    "    y = targets,\n",
    "    batch_size = 32,\n",
    "    epochs = 100,\n",
    "    validation_split = 0.2,\n",
    "    callbacks = [stop]\n",
    ")"
   ]
  },
  {
   "cell_type": "code",
   "execution_count": 17,
   "id": "b1d6fdd9",
   "metadata": {},
   "outputs": [
    {
     "data": {
      "image/png": "[encoded data removed]",
      "text/plain": [
       "<Figure size 432x288 with 1 Axes>"
      ]
     },
     "metadata": {
      "needs_background": "light"
     },
     "output_type": "display_data"
    }
   ],
   "source": [
    "import matplotlib.pyplot as plt\n",
    "plt.plot(history.history['acc'])\n",
    "plt.plot(history.history['val_acc'])\n",
    "plt.title('Accuracy History')\n",
    "plt.ylabel('Accuracy')\n",
    "plt.xlabel('Epoch')\n",
    "plt.legend(['train', 'test'])\n",
    "plt.show()"
   ]
  },
  {
   "cell_type": "code",
   "execution_count": 18,
   "id": "f7f33914",
   "metadata": {},
   "outputs": [
    {
     "name": "stdout",
     "output_type": "stream",
     "text": [
      "WARNING:tensorflow:From E:\\Users\\eboyc\\anaconda3\\envs\\tensorf\\lib\\site-packages\\tensorflow\\python\\training\\tracking\\tracking.py:111: Model.state_updates (from tensorflow.python.keras.engine.training) is deprecated and will be removed in a future version.\n",
      "Instructions for updating:\n",
      "This property should not be used in TensorFlow 2.0, as updates are applied automatically.\n",
      "WARNING:tensorflow:From E:\\Users\\eboyc\\anaconda3\\envs\\tensorf\\lib\\site-packages\\tensorflow\\python\\training\\tracking\\tracking.py:111: Layer.updates (from tensorflow.python.keras.engine.base_layer) is deprecated and will be removed in a future version.\n",
      "Instructions for updating:\n",
      "This property should not be used in TensorFlow 2.0, as updates are applied automatically.\n",
      "INFO:tensorflow:Assets written to: models/rngenerated/model\\assets\n"
     ]
    }
   ],
   "source": [
    "model.save('models/rngenerated/model')"
   ]
  },
  {
   "cell_type": "code",
   "execution_count": 27,
   "id": "4ecbe016",
   "metadata": {},
   "outputs": [],
   "source": [
    "penc.save('models/rngenerated/penc.ohe')"
   ]
  },
  {
   "cell_type": "code",
   "execution_count": 30,
   "id": "baa19b37",
   "metadata": {},
   "outputs": [],
   "source": [
    "import pickle\n",
    "with open('models/rngenerated/menc.ohe', 'wb') as mencout:\n",
    "    pickle.dump(menc, mencout)\n",
    "with open('models/rngenerated/wenc.ohe', 'wb') as wencout:\n",
    "    pickle.dump(wenc, wencout)"
   ]
  },
  {
   "cell_type": "markdown",
   "id": "655c11fd",
   "metadata": {},
   "source": [
    "---\n",
    "\n",
    "Load model and make a prediction"
   ]
  },
  {
   "cell_type": "code",
   "execution_count": 7,
   "id": "9994a3e3",
   "metadata": {},
   "outputs": [
    {
     "name": "stdout",
     "output_type": "stream",
     "text": [
      "Model: \"sequential_2\"\n",
      "_________________________________________________________________\n",
      "Layer (type)                 Output Shape              Param #   \n",
      "=================================================================\n",
      "dense_14 (Dense)             (None, 1600)              100800    \n",
      "_________________________________________________________________\n",
      "dense_15 (Dense)             (None, 400)               640400    \n",
      "_________________________________________________________________\n",
      "dense_16 (Dense)             (None, 133)               53333     \n",
      "_________________________________________________________________\n",
      "dense_17 (Dense)             (None, 44)                5896      \n",
      "_________________________________________________________________\n",
      "dense_18 (Dense)             (None, 14)                630       \n",
      "_________________________________________________________________\n",
      "dense_19 (Dense)             (None, 4)                 60        \n",
      "_________________________________________________________________\n",
      "dense_20 (Dense)             (None, 2)                 10        \n",
      "=================================================================\n",
      "Total params: 801,129\n",
      "Trainable params: 801,129\n",
      "Non-trainable params: 0\n",
      "_________________________________________________________________\n"
     ]
    }
   ],
   "source": [
    "model = tf.keras.models.load_model('models/rngenerated/model')\n",
    "model.summary()"
   ]
  },
  {
   "cell_type": "code",
   "execution_count": 8,
   "id": "03846f8c",
   "metadata": {},
   "outputs": [
    {
     "data": {
      "text/plain": [
       "<__main__.PlayerEncoder at 0x1f76816ef70>"
      ]
     },
     "execution_count": 8,
     "metadata": {},
     "output_type": "execute_result"
    }
   ],
   "source": [
    "penc"
   ]
  },
  {
   "cell_type": "code",
   "execution_count": 10,
   "id": "b10ac10b",
   "metadata": {},
   "outputs": [
    {
     "data": {
      "text/plain": [
       "array([ 1.  ,  1.  ,  1.  ,  1.  ,  1.  ,  1.  ,  1.  ,  1.  ,  0.  ,\n",
       "        0.  ,  0.  ,  0.  ,  0.  ,  0.  ,  0.  ,  0.  ,  0.  ,  0.  ,\n",
       "        0.  ,  0.  ,  0.  ,  0.  ,  0.  ,  0.  ,  0.  ,  0.  ,  0.  ,\n",
       "        0.  ,  1.  ,  1.  ,  0.  ,  0.  ,  0.  ,  0.  ,  0.  ,  0.  ,\n",
       "        0.  ,  0.  ,  0.  ,  0.  ,  0.  ,  1.  ,  0.  ,  0.  ,  8.  ,\n",
       "        2.  ,  0.  ,  3.  , 30.  , 15.  , 75.  ,  1.  ,  1.25,  4.5 ,\n",
       "        4.5 , 25.  ,  2.  ,  1.  ,  2.  ,  2.  ,  1.  ,  1.  ])"
      ]
     },
     "execution_count": 10,
     "metadata": {},
     "output_type": "execute_result"
    }
   ],
   "source": [
    "res = convert_match_result(matches[0])\n",
    "res[0]"
   ]
  },
  {
   "cell_type": "code",
   "execution_count": 13,
   "id": "92339899",
   "metadata": {},
   "outputs": [
    {
     "data": {
      "text/plain": [
       "array([[0.52485067, 0.47514942]], dtype=float32)"
      ]
     },
     "execution_count": 13,
     "metadata": {},
     "output_type": "execute_result"
    }
   ],
   "source": [
    "model.predict(np.array([res[0]]))"
   ]
  },
  {
   "cell_type": "code",
   "execution_count": 14,
   "id": "423b3d21",
   "metadata": {},
   "outputs": [
    {
     "data": {
      "text/plain": [
       "array([1., 0.])"
      ]
     },
     "execution_count": 14,
     "metadata": {},
     "output_type": "execute_result"
    }
   ],
   "source": [
    "res[1]"
   ]
  },
  {
   "cell_type": "code",
   "execution_count": null,
   "id": "ee163c3f",
   "metadata": {},
   "outputs": [],
   "source": []
  }
 ],
 "metadata": {
  "kernelspec": {
   "display_name": "tensorf",
   "language": "python",
   "name": "tensorf"
  },
  "language_info": {
   "codemirror_mode": {
    "name": "ipython",
    "version": 3
   },
   "file_extension": ".py",
   "mimetype": "text/x-python",
   "name": "python",
   "nbconvert_exporter": "python",
   "pygments_lexer": "ipython3",
   "version": "3.8.5"
  }
 },
 "nbformat": 4,
 "nbformat_minor": 5
}
