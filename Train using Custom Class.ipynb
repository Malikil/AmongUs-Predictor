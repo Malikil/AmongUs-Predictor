{
 "cells": [
  {
   "cell_type": "code",
   "execution_count": 1,
   "id": "a59a1b6c",
   "metadata": {},
   "outputs": [],
   "source": [
    "from custom_classes import Predictor"
   ]
  },
  {
   "cell_type": "code",
   "execution_count": 2,
   "id": "a6132254",
   "metadata": {},
   "outputs": [
    {
     "data": {
      "text/plain": [
       "{'crewmates': ['Player 3',\n",
       "  'Player 9',\n",
       "  'Player 17',\n",
       "  'Player 16',\n",
       "  'Player 6',\n",
       "  'Player 14',\n",
       "  'Player 1',\n",
       "  'Player 4'],\n",
       " 'impostors': ['Player 2', 'Player 5'],\n",
       " 'map': 'MIRA HQ',\n",
       " 'confirm_ejects': False,\n",
       " 'emergency_meetings': 3,\n",
       " 'emergency_cooldown': 30,\n",
       " 'discussion_time': 15,\n",
       " 'voting_time': 75,\n",
       " 'anonymous_votes': True,\n",
       " 'player_speed': 1.25,\n",
       " 'crewmate_vision': 4.5,\n",
       " 'impostor_vision': 4.5,\n",
       " 'kill_cooldown': 25.0,\n",
       " 'kill_distance': 'Medium',\n",
       " 'visual_tasks': True,\n",
       " 'task_bar_updates': 'Always',\n",
       " 'common_tasks': 2,\n",
       " 'long_tasks': 1,\n",
       " 'short_tasks': 1,\n",
       " 'match_winner': 'crewmates'}"
      ]
     },
     "execution_count": 2,
     "metadata": {},
     "output_type": "execute_result"
    }
   ],
   "source": [
    "import json\n",
    "with open('data/matches.json', 'r') as infile:\n",
    "    matches = json.load(infile)\n",
    "matches[0]"
   ]
  },
  {
   "cell_type": "code",
   "execution_count": 3,
   "id": "eb41db80",
   "metadata": {},
   "outputs": [
    {
     "name": "stdout",
     "output_type": "stream",
     "text": [
      "Epoch 1/100\n",
      "250/250 [==============================] - 2s 9ms/step - loss: 0.6319 - acc: 0.6795 - val_loss: 0.6026 - val_acc: 0.7050\n",
      "Epoch 2/100\n",
      "250/250 [==============================] - 2s 8ms/step - loss: 0.5890 - acc: 0.7006 - val_loss: 0.5829 - val_acc: 0.7000\n",
      "Epoch 3/100\n",
      "250/250 [==============================] - 2s 8ms/step - loss: 0.5720 - acc: 0.7082 - val_loss: 0.5788 - val_acc: 0.7080\n",
      "Epoch 4/100\n",
      "250/250 [==============================] - 2s 9ms/step - loss: 0.5556 - acc: 0.7264 - val_loss: 0.5797 - val_acc: 0.6985\n",
      "Epoch 5/100\n",
      "250/250 [==============================] - 2s 8ms/step - loss: 0.5243 - acc: 0.7525 - val_loss: 0.4995 - val_acc: 0.7755\n",
      "Epoch 6/100\n",
      "250/250 [==============================] - 2s 9ms/step - loss: 0.4793 - acc: 0.7829 - val_loss: 0.4709 - val_acc: 0.7910\n",
      "Epoch 7/100\n",
      "250/250 [==============================] - 2s 8ms/step - loss: 0.4419 - acc: 0.8040 - val_loss: 0.4429 - val_acc: 0.8005\n",
      "Epoch 8/100\n",
      "250/250 [==============================] - 2s 8ms/step - loss: 0.4228 - acc: 0.8092 - val_loss: 0.4405 - val_acc: 0.8010\n",
      "Epoch 9/100\n",
      "250/250 [==============================] - 2s 9ms/step - loss: 0.4162 - acc: 0.8139 - val_loss: 0.4346 - val_acc: 0.7955\n",
      "Epoch 10/100\n",
      "250/250 [==============================] - 2s 9ms/step - loss: 0.4094 - acc: 0.8191 - val_loss: 0.4462 - val_acc: 0.7870\n",
      "Epoch 11/100\n",
      "250/250 [==============================] - 2s 9ms/step - loss: 0.4013 - acc: 0.8189 - val_loss: 0.4928 - val_acc: 0.7655\n",
      "Epoch 12/100\n",
      "250/250 [==============================] - 2s 9ms/step - loss: 0.3994 - acc: 0.8174 - val_loss: 0.4273 - val_acc: 0.7965\n",
      "Epoch 13/100\n",
      "250/250 [==============================] - 2s 9ms/step - loss: 0.3985 - acc: 0.8195 - val_loss: 0.4265 - val_acc: 0.8010\n"
     ]
    }
   ],
   "source": [
    "model = Predictor()\n",
    "history = model.fit(matches)"
   ]
  },
  {
   "cell_type": "code",
   "execution_count": 4,
   "id": "0441fca1",
   "metadata": {},
   "outputs": [
    {
     "data": {
      "image/png": "[encoded data removed]",
      "text/plain": [
       "<Figure size 432x288 with 1 Axes>"
      ]
     },
     "metadata": {
      "needs_background": "light"
     },
     "output_type": "display_data"
    }
   ],
   "source": [
    "import matplotlib.pyplot as plt\n",
    "plt.plot(history.history['acc'])\n",
    "plt.plot(history.history['val_acc'])\n",
    "plt.title('Accuracy History')\n",
    "plt.ylabel('Accuracy')\n",
    "plt.xlabel('Epoch')\n",
    "plt.legend(['train', 'test'])\n",
    "plt.show()"
   ]
  },
  {
   "cell_type": "code",
   "execution_count": null,
   "id": "7337d5b0",
   "metadata": {},
   "outputs": [],
   "source": []
  }
 ],
 "metadata": {
  "kernelspec": {
   "display_name": "tensorf",
   "language": "python",
   "name": "tensorf"
  },
  "language_info": {
   "codemirror_mode": {
    "name": "ipython",
    "version": 3
   },
   "file_extension": ".py",
   "mimetype": "text/x-python",
   "name": "python",
   "nbconvert_exporter": "python",
   "pygments_lexer": "ipython3",
   "version": "3.8.5"
  }
 },
 "nbformat": 4,
 "nbformat_minor": 5
}
